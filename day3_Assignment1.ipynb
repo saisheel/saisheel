{
  "nbformat": 4,
  "nbformat_minor": 0,
  "metadata": {
    "colab": {
      "provenance": [],
      "include_colab_link": true
    },
    "kernelspec": {
      "name": "python3",
      "display_name": "Python 3"
    },
    "language_info": {
      "name": "python"
    }
  },
  "cells": [
    {
      "cell_type": "markdown",
      "metadata": {
        "id": "view-in-github",
        "colab_type": "text"
      },
      "source": [
        "<a href=\"https://colab.research.google.com/github/saisheel/saisheel/blob/main/day3_Assignment1.ipynb\" target=\"_parent\"><img src=\"https://colab.research.google.com/assets/colab-badge.svg\" alt=\"Open In Colab\"/></a>"
      ]
    },
    {
      "cell_type": "markdown",
      "source": [],
      "metadata": {
        "id": "KZ91_NegViLz"
      }
    },
    {
      "cell_type": "markdown",
      "source": [
        "## problem 1\n",
        "Create a dictionary where the keys correspond to the area of a flat adn value for each is the price of the house for 10 flat in kompally"
      ],
      "metadata": {
        "id": "B1Fhdmi9V3LI"
      }
    },
    {
      "cell_type": "code",
      "source": [
        "# Dictionary of house area and house prices of 10 houses in\n",
        "HInt: area_price = {area:price}"
      ],
      "metadata": {
        "id": "zihWmw3NWXQX"
      },
      "execution_count": null,
      "outputs": []
    },
    {
      "cell_type": "code",
      "source": [
        "flat_prices = {\n",
        "    'Flat_Area_1': 1000,\n",
        "    'Flat_Area_2': 1200,\n",
        "    'Flat_Area_3': 900,\n",
        "    'Flat_Area_4': 1100,\n",
        "    'Flat_Area_5': 950,\n",
        "    'Flat_Area_6': 1300,\n",
        "    'Flat_Area_7': 1000,\n",
        "    'Flat_Area_8': 1100,\n",
        "    'Flat_Area_9': 1200,\n",
        "    'Flat_Area_10': 1050\n",
        "}\n",
        "\n",
        "print(flat_prices)\n"
      ],
      "metadata": {
        "id": "7g-HXR0xweJR",
        "outputId": "02a68606-4866-40cc-c6f8-301dc0c35261",
        "colab": {
          "base_uri": "https://localhost:8080/"
        }
      },
      "execution_count": null,
      "outputs": [
        {
          "output_type": "stream",
          "name": "stdout",
          "text": [
            "{'Flat_Area_1': 1000, 'Flat_Area_2': 1200, 'Flat_Area_3': 900, 'Flat_Area_4': 1100, 'Flat_Area_5': 950, 'Flat_Area_6': 1300, 'Flat_Area_7': 1000, 'Flat_Area_8': 1100, 'Flat_Area_9': 1200, 'Flat_Area_10': 1050}\n"
          ]
        }
      ]
    },
    {
      "cell_type": "markdown",
      "source": [
        "### Now broker predicts the price as can be written as : <b><code>predicted_price(area) = 0.06*area + 15</code></b>"
      ],
      "metadata": {
        "id": "JI2jaDf8Wp2D"
      }
    },
    {
      "cell_type": "markdown",
      "source": [
        "Using the concept of list comprehension,create a list of predicted flat price using the above formula\n"
      ],
      "metadata": {
        "id": "v_K_Z8dtW6-D"
      }
    },
    {
      "cell_type": "code",
      "source": [
        "# Create a list of house areas\n",
        "\n",
        "\n",
        "\n",
        "# Use list comprehension to store the predicted house prices in a list\n",
        "\n",
        "\n",
        "# Print the list of predicted flat prices\n"
      ],
      "metadata": {
        "id": "F732P6DHXVYH"
      },
      "execution_count": null,
      "outputs": []
    },
    {
      "cell_type": "code",
      "source": [
        "flat_areas = [1000, 1200, 900, 1100, 950, 1300, 1000, 1100, 1200, 1050]\n",
        "\n",
        "predicted_prices = [0.06 * area + 15 for area in flat_areas]\n",
        "\n",
        "print(\"Flat Areas:\", flat_areas)\n",
        "print(\"Predicted Prices:\", predicted_prices)\n"
      ],
      "metadata": {
        "id": "azEKbRFkwwGI",
        "outputId": "5e5d83ed-3f79-4abc-d7de-634eeb304cc9",
        "colab": {
          "base_uri": "https://localhost:8080/"
        }
      },
      "execution_count": null,
      "outputs": [
        {
          "output_type": "stream",
          "name": "stdout",
          "text": [
            "Flat Areas: [1000, 1200, 900, 1100, 950, 1300, 1000, 1100, 1200, 1050]\n",
            "Predicted Prices: [75.0, 87.0, 69.0, 81.0, 72.0, 93.0, 75.0, 81.0, 87.0, 78.0]\n"
          ]
        }
      ]
    },
    {
      "cell_type": "markdown",
      "source": [
        "## Create another list which contains the squares of differences of each element of the two price lists : the actual prices and the predicted prices\n"
      ],
      "metadata": {
        "id": "-ZrRO78DXZq6"
      }
    },
    {
      "cell_type": "code",
      "source": [
        "actual_prices = [100000, 120000, 95000, 115000, 98000, 125000, 105000, 112000, 118000, 102000]\n",
        "\n",
        "squares_of_differences = [(actual - predicted) ** 2 for actual, predicted in zip(actual_prices, predicted_prices)]\n",
        "\n",
        "print(\"Actual Prices:\", actual_prices)\n",
        "print(\"Predicted Prices:\", predicted_prices)\n",
        "print(\"Squares of Differences:\", squares_of_differences)\n"
      ],
      "metadata": {
        "id": "dEpxZqK7XzeD",
        "outputId": "6b971f18-2c17-4632-913e-fad6dd2e2205",
        "colab": {
          "base_uri": "https://localhost:8080/"
        }
      },
      "execution_count": null,
      "outputs": [
        {
          "output_type": "stream",
          "name": "stdout",
          "text": [
            "Actual Prices: [100000, 120000, 95000, 115000, 98000, 125000, 105000, 112000, 118000, 102000]\n",
            "Predicted Prices: [75.0, 87.0, 69.0, 81.0, 72.0, 93.0, 75.0, 81.0, 87.0, 78.0]\n",
            "Squares of Differences: [9985005625.0, 14379127569.0, 9011894761.0, 13206376561.0, 9589893184.0, 15601758649.0, 11009255625.0, 12525862561.0, 13903475569.0, 10388094084.0]\n"
          ]
        }
      ]
    },
    {
      "cell_type": "markdown",
      "source": [
        "## <u> Problem 2</u>\n",
        "\n",
        "## A sigmoid function is a mathematical function having a characteristic \"S\"-shaped curve or sigmoid curve. A common example of a sigmoid function is the logistic function shown in the first figure and defined by the formula:\n",
        "\n",
        "$$ h(x) =  \\frac{\\mathrm{1} }{\\mathrm{1} + e^{-x} }  $$\n",
        "\n",
        "\n",
        "## Range is defined as all the possible values which the function $h(x)$ can take. Domain is defined as all the possible values which $x$ can take. In this case, range of the function is between 0 to 1 and the domain of the function is all real numbers"
      ],
      "metadata": {
        "id": "PEC_OtXRXrCg"
      }
    },
    {
      "cell_type": "markdown",
      "source": [
        "### You are given a list of values of $x$. You need to use list comprehension to calculate the corresponding transformation according to the sigmoid function defined above"
      ],
      "metadata": {
        "id": "YZCTres_XsB0"
      }
    },
    {
      "cell_type": "code",
      "source": [
        "# Return a list of boolean values if the sigmoid_of_x is greater than or equal to 0 and less than or equal to 1\n",
        "\n",
        "\n",
        "\n",
        "# Create a list of those values which are greater than 0.5"
      ],
      "metadata": {
        "id": "TmYb4SluYC4S"
      },
      "execution_count": null,
      "outputs": []
    },
    {
      "cell_type": "code",
      "source": [
        "import math\n",
        "\n",
        "def sigmoid(x):\n",
        "    return 1 / (1 + math.exp(-x))\n",
        "\n",
        "x_values = [1, 2, 3, 4, 5]\n",
        "\n",
        "sigmoid_transformed = [sigmoid(x) for x in x_values]\n",
        "\n",
        "print(\"Original x values:\", x_values)\n",
        "print(\"Sigmoid Transformed values:\", sigmoid_transformed)\n"
      ],
      "metadata": {
        "id": "vFbyiLI8xKDk",
        "outputId": "45b4fd95-3fb6-4fc3-8ce4-fffce3aa3e8e",
        "colab": {
          "base_uri": "https://localhost:8080/"
        }
      },
      "execution_count": null,
      "outputs": [
        {
          "output_type": "stream",
          "name": "stdout",
          "text": [
            "Original x values: [1, 2, 3, 4, 5]\n",
            "Sigmoid Transformed values: [0.7310585786300049, 0.8807970779778823, 0.9525741268224334, 0.9820137900379085, 0.9933071490757153]\n"
          ]
        }
      ]
    },
    {
      "cell_type": "markdown",
      "source": [
        "# <u> Problem 3</u>\n",
        "\n",
        "## You are given a sentence : <code>\"I have been walking and running and dancing and smiling and laughing all my life, yet it all seems pointless. So i stoped thinking and started doing\"</code>\n",
        "\n",
        "## You are required to extract all those words from this sentence in a list which ends with <code>ing</code>"
      ],
      "metadata": {
        "id": "j31JnVUtYNU-"
      }
    },
    {
      "cell_type": "code",
      "source": [
        "# Your sentence\n",
        "my_sentence = \"\""
      ],
      "metadata": {
        "id": "8s6rFnH2YO1z"
      },
      "execution_count": null,
      "outputs": []
    },
    {
      "cell_type": "code",
      "source": [
        "sentence = \"I have been walking and running and dancing and smiling and laughing all my life, yet it all seems pointless. So I stopped thinking and started doing\"\n",
        "\n",
        "ing_words = [word.strip(\",.\") for word in sentence.split() if word.endswith(\"ing\")]\n",
        "\n",
        "print(\"Words ending with 'ing':\", ing_words)\n"
      ],
      "metadata": {
        "id": "t_cEDZQtxdLh",
        "outputId": "38079239-1f2f-4a64-c5e7-8c256ab2c744",
        "colab": {
          "base_uri": "https://localhost:8080/"
        }
      },
      "execution_count": null,
      "outputs": [
        {
          "output_type": "stream",
          "name": "stdout",
          "text": [
            "Words ending with 'ing': ['walking', 'running', 'dancing', 'smiling', 'laughing', 'thinking', 'doing']\n"
          ]
        }
      ]
    },
    {
      "cell_type": "markdown",
      "source": [
        "# <u> Problem 4</u>\n",
        "\n",
        "#### Natural Language Processing or NLP is one of the most promising fields in Machine Learning. Most of the times in NLP we deal with the textual data (a bunch of strings). Sometimes when we are processing the text, it is a common practice to get rid of some set of stop words from our original text. By default stop words are very common words used in English language such as and, or, punctuations etc.\n",
        "\n",
        "#### In this exercise, you are provided with a default set of stop words and you need to add some extra set of custom words and remove these words from the given sentence and obtain the sentence without the stop words"
      ],
      "metadata": {
        "id": "rYwInhGlYOyz"
      }
    },
    {
      "cell_type": "code",
      "source": [
        "# A sample sentence\n",
        "\n",
        "# Print your sentence"
      ],
      "metadata": {
        "id": "b86yHqHEYOpp"
      },
      "execution_count": null,
      "outputs": []
    },
    {
      "cell_type": "code",
      "source": [
        "# Default set of stop words\n",
        "stop_words = {\"i\", \"me\", \"my\", \"myself\", \"we\", \"our\", \"ours\", \"ourselves\", \"you\", \"your\", \"yours\", \"yourself\",\n",
        "              \"yourselves\", \"he\", \"him\", \"his\", \"himself\", \"she\", \"her\", \"hers\", \"herself\", \"it\", \"its\", \"itself\",\n",
        "              \"they\", \"them\", \"their\", \"theirs\", \"themselves\", \"what\", \"which\", \"who\", \"whom\", \"this\", \"that\",\n",
        "              \"these\", \"those\", \"am\", \"is\", \"are\", \"was\", \"were\", \"be\", \"been\", \"being\", \"have\", \"has\", \"had\",\n",
        "              \"having\", \"do\", \"does\", \"did\", \"doing\", \"a\", \"an\", \"the\", \"and\", \"but\", \"if\", \"or\", \"because\",\n",
        "              \"as\", \"until\", \"while\", \"of\", \"at\", \"by\", \"for\", \"with\", \"about\", \"against\", \"between\", \"into\",\n",
        "              \"through\", \"during\", \"before\", \"after\", \"above\", \"below\", \"to\", \"from\", \"up\", \"down\", \"in\", \"out\",\n",
        "              \"on\", \"off\", \"over\", \"under\", \"again\", \"further\", \"then\", \"once\", \"here\", \"there\", \"when\", \"where\",\n",
        "              \"why\", \"how\", \"all\", \"any\", \"both\", \"each\", \"few\", \"more\", \"most\", \"other\", \"some\", \"such\", \"no\",\n",
        "              \"nor\", \"not\", \"only\", \"own\", \"same\", \"so\", \"than\", \"too\", \"very\", \"s\", \"t\", \"can\", \"will\", \"just\",\n",
        "              \"don\", \"should\", \"now\"}"
      ],
      "metadata": {
        "id": "RbyJscXWYh0z"
      },
      "execution_count": null,
      "outputs": []
    },
    {
      "cell_type": "code",
      "source": [
        "\n",
        "custom_stop_words = [\"hello\",\"folks\",\"good\",\"morning\",\"half\",\"year\"]\n",
        "# Update the set of stop words by adding the custom stop words\n",
        "\n"
      ],
      "metadata": {
        "id": "JCZ3mWDEYplT"
      },
      "execution_count": null,
      "outputs": []
    },
    {
      "cell_type": "code",
      "source": [
        "# Create the list of words in the given sentence.\n"
      ],
      "metadata": {
        "id": "OG_iCUm9Yyx3"
      },
      "execution_count": null,
      "outputs": []
    },
    {
      "cell_type": "code",
      "source": [
        "# Use list comprehension to remove the set of updated stop words from the list of words\n"
      ],
      "metadata": {
        "id": "Kk665UtXY3UH"
      },
      "execution_count": null,
      "outputs": []
    },
    {
      "cell_type": "code",
      "source": [
        "# Finally using the join() method, get the sentence without the stop words. Keep in mind that every word in the sentence will be separated by space\n",
        "\n",
        "\n",
        "# Print the modified sentence"
      ],
      "metadata": {
        "id": "RzO-jDZVY6wD"
      },
      "execution_count": null,
      "outputs": []
    },
    {
      "cell_type": "code",
      "source": [
        "default_stop_words = [\"the\", \"and\", \"or\", \"a\", \"an\", \"in\", \"on\", \"of\", \"with\", \"is\", \"are\", \"to\", \"for\", \"from\"]\n",
        "\n",
        "custom_stop_words = [\"this\", \"that\", \"it\", \"not\", \"but\", \"as\"]\n",
        "\n",
        "sentence = \"Natural Language Processing or NLP is one of the most promising fields in Machine Learning.\"\n",
        "\n",
        "all_stop_words = set(default_stop_words + custom_stop_words)\n",
        "\n",
        "filtered_sentence = ' '.join([word for word in sentence.split() if word.lower() not in all_stop_words])\n",
        "\n",
        "print(\"Original Sentence:\", sentence)\n",
        "print(\"Filtered Sentence (without stop words):\", filtered_sentence)\n"
      ],
      "metadata": {
        "id": "o0AqgP_RxqGi",
        "outputId": "c145624a-71fd-48af-d568-f2e03abd7237",
        "colab": {
          "base_uri": "https://localhost:8080/"
        }
      },
      "execution_count": null,
      "outputs": [
        {
          "output_type": "stream",
          "name": "stdout",
          "text": [
            "Original Sentence: Natural Language Processing or NLP is one of the most promising fields in Machine Learning.\n",
            "Filtered Sentence (without stop words): Natural Language Processing NLP one most promising fields Machine Learning.\n"
          ]
        }
      ]
    }
  ]
}