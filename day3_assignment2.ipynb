{
  "nbformat": 4,
  "nbformat_minor": 0,
  "metadata": {
    "colab": {
      "provenance": [],
      "include_colab_link": true
    },
    "kernelspec": {
      "name": "python3",
      "display_name": "Python 3"
    },
    "language_info": {
      "name": "python"
    }
  },
  "cells": [
    {
      "cell_type": "markdown",
      "metadata": {
        "id": "view-in-github",
        "colab_type": "text"
      },
      "source": [
        "<a href=\"https://colab.research.google.com/github/saisheel/saisheel/blob/main/day3_assignment2.ipynb\" target=\"_parent\"><img src=\"https://colab.research.google.com/assets/colab-badge.svg\" alt=\"Open In Colab\"/></a>"
      ]
    },
    {
      "cell_type": "markdown",
      "source": [
        "## Write a python program to crate a lambda funciotn that adds 15 to a given numebr\n"
      ],
      "metadata": {
        "id": "Cu2MTBpAH98v"
      }
    },
    {
      "cell_type": "code",
      "source": [
        "add_15 = lambda x: x + 15\n",
        "\n",
        "input_number = 10\n",
        "\n",
        "result = add_15(input_number)\n",
        "\n",
        "print(f\"The result of adding 15 to {input_number} is: {result}\")\n"
      ],
      "metadata": {
        "id": "QBZKf4hYIYh-",
        "outputId": "9b45d17f-b850-4dd1-a6de-774010377e7b",
        "colab": {
          "base_uri": "https://localhost:8080/"
        }
      },
      "execution_count": null,
      "outputs": [
        {
          "output_type": "stream",
          "name": "stdout",
          "text": [
            "The result of adding 15 to 10 is: 25\n"
          ]
        }
      ]
    },
    {
      "cell_type": "code",
      "source": [
        "add_15 = lambda x: x + 15\n",
        "\n",
        "input_number = 25\n",
        "\n",
        "result = add_15(input_number)\n",
        "\n",
        "print(f\"The result of adding 15 to {input_number} is: {result}\")\n"
      ],
      "metadata": {
        "id": "ERMc1QfnIYgd",
        "outputId": "a8567057-98e9-4961-d4d4-07a5112abfd4",
        "colab": {
          "base_uri": "https://localhost:8080/"
        }
      },
      "execution_count": null,
      "outputs": [
        {
          "output_type": "stream",
          "name": "stdout",
          "text": [
            "The result of adding 15 to 25 is: 40\n"
          ]
        }
      ]
    },
    {
      "cell_type": "markdown",
      "source": [
        "## Write a funciton to create a prime number generator"
      ],
      "metadata": {
        "id": "QvheE-ZfIJFc"
      }
    },
    {
      "cell_type": "code",
      "source": [
        "def is_prime(num):\n",
        "    \"\"\"Check if a number is prime.\"\"\"\n",
        "    if num < 2:\n",
        "        return False\n",
        "    for i in range(2, int(num**0.5) + 1):\n",
        "        if num % i == 0:\n",
        "            return False\n",
        "    return True\n",
        "\n",
        "def prime_generator():\n",
        "    \"\"\"Generate prime numbers using a generator.\"\"\"\n",
        "    num = 2\n",
        "    while True:\n",
        "        if is_prime(num):\n",
        "            yield num\n",
        "        num += 1\n",
        "\n",
        "prime_gen = prime_generator()\n",
        "\n",
        "for _ in range(5):\n",
        "    print(next(prime_gen))\n"
      ],
      "metadata": {
        "id": "z19r-AaMIIlC",
        "outputId": "27921c65-b49c-40c8-9a03-d2a8dea4f818",
        "colab": {
          "base_uri": "https://localhost:8080/"
        }
      },
      "execution_count": null,
      "outputs": [
        {
          "output_type": "stream",
          "name": "stdout",
          "text": [
            "2\n",
            "3\n",
            "5\n",
            "7\n",
            "11\n"
          ]
        }
      ]
    },
    {
      "cell_type": "markdown",
      "source": [
        "## Create a lambda funtion to filter out the even numebr from a given list"
      ],
      "metadata": {
        "id": "fgG1qcgaIZKL"
      }
    },
    {
      "cell_type": "code",
      "source": [
        "numbers = [1, 2, 3, 4, 5, 6, 7, 8, 9, 10]\n",
        "\n",
        "filter_even = lambda x: x % 2 == 0\n",
        "\n",
        "even_numbers = list(filter(filter_even, numbers))\n",
        "\n",
        "print(\"Original List:\", numbers)\n",
        "print(\"Even Numbers:\", even_numbers)\n"
      ],
      "metadata": {
        "id": "FWQS-SgjImHw",
        "outputId": "57410588-e636-4484-b5b3-4b4289cd124c",
        "colab": {
          "base_uri": "https://localhost:8080/"
        }
      },
      "execution_count": null,
      "outputs": [
        {
          "output_type": "stream",
          "name": "stdout",
          "text": [
            "Original List: [1, 2, 3, 4, 5, 6, 7, 8, 9, 10]\n",
            "Even Numbers: [2, 4, 6, 8, 10]\n"
          ]
        }
      ]
    },
    {
      "cell_type": "markdown",
      "source": [
        "## Create a funciton for prime numebr generator"
      ],
      "metadata": {
        "id": "c1H7iXqDIuJI"
      }
    },
    {
      "cell_type": "code",
      "source": [
        "def is_prime(num):\n",
        "    \"\"\"Check if a number is prime.\"\"\"\n",
        "    if num < 2:\n",
        "        return False\n",
        "    for i in range(2, int(num**0.5) + 1):\n",
        "        if num % i == 0:\n",
        "            return False\n",
        "    return True\n",
        "\n",
        "def prime_generator(limit=None):\n",
        "    \"\"\"Generate prime numbers up to the specified limit (or indefinitely if limit is None).\"\"\"\n",
        "    num = 2\n",
        "    count = 0\n",
        "    while limit is None or count < limit:\n",
        "        if is_prime(num):\n",
        "            yield num\n",
        "            count += 1\n",
        "        num += 1\n",
        "\n",
        "limit = 5\n",
        "prime_gen = prime_generator(limit)\n",
        "\n",
        "for _ in range(limit):\n",
        "    print(next(prime_gen))\n"
      ],
      "metadata": {
        "id": "B6zt1ESKI2T4",
        "outputId": "8ede397d-b32d-4ceb-fba9-cb62b431ed3a",
        "colab": {
          "base_uri": "https://localhost:8080/"
        }
      },
      "execution_count": null,
      "outputs": [
        {
          "output_type": "stream",
          "name": "stdout",
          "text": [
            "2\n",
            "3\n",
            "5\n",
            "7\n",
            "11\n"
          ]
        }
      ]
    },
    {
      "cell_type": "code",
      "source": [
        "def is_prime(num):\n",
        "    \"\"\"Check if a number is prime.\"\"\"\n",
        "    if num < 2:\n",
        "        return False\n",
        "    for i in range(2, int(num**0.5) + 1):\n",
        "        if num % i == 0:\n",
        "            return False\n",
        "    return True\n",
        "\n",
        "def prime_generator(limit=None):\n",
        "    \"\"\"Generate prime numbers up to the specified limit (or indefinitely if limit is None).\"\"\"\n",
        "    num = 2\n",
        "    count = 0\n",
        "    while limit is None or count < limit:\n",
        "        if is_prime(num):\n",
        "            yield num\n",
        "            count += 1\n",
        "        num += 1\n",
        "\n",
        "limit = 7\n",
        "prime_gen = prime_generator(limit)\n",
        "\n",
        "print(\"First 7 Prime Numbers:\")\n",
        "for _ in range(limit):\n",
        "    print(next(prime_gen))\n"
      ],
      "metadata": {
        "id": "4GagUuQWzK7k",
        "outputId": "13b851c4-80fe-48d7-b072-092938926d44",
        "colab": {
          "base_uri": "https://localhost:8080/"
        }
      },
      "execution_count": null,
      "outputs": [
        {
          "output_type": "stream",
          "name": "stdout",
          "text": [
            "First 7 Prime Numbers:\n",
            "2\n",
            "3\n",
            "5\n",
            "7\n",
            "11\n",
            "13\n",
            "17\n"
          ]
        }
      ]
    },
    {
      "cell_type": "markdown",
      "source": [
        "## create funciton for fibbonacci series generator"
      ],
      "metadata": {
        "id": "NMp0TAZaI18z"
      }
    },
    {
      "cell_type": "code",
      "source": [
        "def fibonacci_generator(limit=None):\n",
        "    \"\"\"Generate Fibonacci numbers up to the specified limit (or indefinitely if limit is None).\"\"\"\n",
        "    a, b = 0, 1\n",
        "    count = 0\n",
        "    while limit is None or count < limit:\n",
        "        yield a\n",
        "        a, b = b, a + b\n",
        "        count += 1\n",
        "\n",
        "limit = 10\n",
        "fibonacci_gen = fibonacci_generator(limit)\n",
        "\n",
        "print(\"First 10 Fibonacci Numbers:\")\n",
        "for _ in range(limit):\n",
        "    print(next(fibonacci_gen))\n"
      ],
      "metadata": {
        "id": "dpa2ABE8JCnt",
        "outputId": "5893d229-3756-45c0-e9e8-81079f34e6c9",
        "colab": {
          "base_uri": "https://localhost:8080/"
        }
      },
      "execution_count": null,
      "outputs": [
        {
          "output_type": "stream",
          "name": "stdout",
          "text": [
            "First 10 Fibonacci Numbers:\n",
            "0\n",
            "1\n",
            "1\n",
            "2\n",
            "3\n",
            "5\n",
            "8\n",
            "13\n",
            "21\n",
            "34\n"
          ]
        }
      ]
    }
  ]
}