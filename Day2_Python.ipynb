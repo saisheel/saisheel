{
  "nbformat": 4,
  "nbformat_minor": 0,
  "metadata": {
    "colab": {
      "provenance": [],
      "include_colab_link": true
    },
    "kernelspec": {
      "name": "python3",
      "display_name": "Python 3"
    },
    "language_info": {
      "name": "python"
    }
  },
  "cells": [
    {
      "cell_type": "markdown",
      "metadata": {
        "id": "view-in-github",
        "colab_type": "text"
      },
      "source": [
        "<a href=\"https://colab.research.google.com/github/saisheel/saisheel/blob/main/Day2_Python.ipynb\" target=\"_parent\"><img src=\"https://colab.research.google.com/assets/colab-badge.svg\" alt=\"Open In Colab\"/></a>"
      ]
    },
    {
      "cell_type": "markdown",
      "source": [
        "## 1.Difference between the list and tuple?"
      ],
      "metadata": {
        "id": "HN6tCq60j2mQ"
      }
    },
    {
      "cell_type": "code",
      "source": [
        "my_list = [1, 2, 3, 'a', 'b', 'c']\n",
        "\n",
        "my_tuple = (4, 5, 6, 'x', 'y', 'z')\n",
        "\n",
        "print(\"List Element at index 0:\", my_list[0])\n",
        "print(\"Tuple Element at index 0:\", my_tuple[0])\n",
        "\n",
        "my_list[0] = 10\n",
        "\n",
        "my_list.append(4)\n",
        "\n",
        "print(\"Length of List:\", len(my_list))\n",
        "print(\"Length of Tuple:\", len(my_tuple))\n",
        "\n",
        "print(\"List Elements:\")\n",
        "for item in my_list:\n",
        "    print(item)\n",
        "\n",
        "print(\"Tuple Elements:\")\n",
        "for item in my_tuple:\n",
        "    print(item)\n"
      ],
      "metadata": {
        "id": "Cw8ffkhMk6RQ",
        "outputId": "e7a62131-ada1-4463-c670-400153f53440",
        "colab": {
          "base_uri": "https://localhost:8080/"
        }
      },
      "execution_count": null,
      "outputs": [
        {
          "output_type": "stream",
          "name": "stdout",
          "text": [
            "List Element at index 0: 1\n",
            "Tuple Element at index 0: 4\n",
            "Length of List: 7\n",
            "Length of Tuple: 6\n",
            "List Elements:\n",
            "10\n",
            "2\n",
            "3\n",
            "a\n",
            "b\n",
            "c\n",
            "4\n",
            "Tuple Elements:\n",
            "4\n",
            "5\n",
            "6\n",
            "x\n",
            "y\n",
            "z\n"
          ]
        }
      ]
    },
    {
      "cell_type": "markdown",
      "source": [
        "## 2.How list is different from an array"
      ],
      "metadata": {
        "id": "uWhJG7hzk6Ov"
      }
    },
    {
      "cell_type": "code",
      "source": [
        "my_list = [1, 2, 3, 4, 5]\n",
        "\n",
        "import numpy as np\n",
        "my_array = np.array([1, 2, 3, 4, 5])\n",
        "\n",
        "print(\"List Element at index 0:\", my_list[0])\n",
        "print(\"NumPy Array Element at index 0:\", my_array[0])\n",
        "\n",
        "result_array = my_array + 2\n",
        "print(\"NumPy Array after addition:\", result_array)\n",
        "\n",
        "print(\"Type of List Elements:\", type(my_list[0]))\n",
        "print(\"Type of NumPy Array Elements:\", type(my_array[0]))\n"
      ],
      "metadata": {
        "id": "MowyCcINo4Mn",
        "outputId": "0c47bc20-9ee7-4062-c99c-9b7ae8295b61",
        "colab": {
          "base_uri": "https://localhost:8080/"
        }
      },
      "execution_count": null,
      "outputs": [
        {
          "output_type": "stream",
          "name": "stdout",
          "text": [
            "List Element at index 0: 1\n",
            "NumPy Array Element at index 0: 1\n",
            "NumPy Array after addition: [3 4 5 6 7]\n",
            "Type of List Elements: <class 'int'>\n",
            "Type of NumPy Array Elements: <class 'numpy.int64'>\n"
          ]
        }
      ]
    },
    {
      "cell_type": "markdown",
      "source": [],
      "metadata": {
        "id": "1uPEIFbxmQwt"
      }
    },
    {
      "cell_type": "markdown",
      "source": [
        "## 3. Use the python list append(),copy(), clear, count, extends(), index(), insert(), pop(), reverse(), sort(), min(), max(),and sum()"
      ],
      "metadata": {
        "id": "_0Rn7JQSk6M1"
      }
    },
    {
      "cell_type": "code",
      "source": [
        "my_list = [3, 1, 4, 1, 5, 9, 2, 6, 5, 3, 5]\n",
        "\n",
        "my_list.append(8)\n",
        "print(\"After append:\", my_list)\n",
        "\n",
        "copied_list = my_list.copy()\n",
        "print(\"Copied list:\", copied_list)\n",
        "\n",
        "my_list. clear()\n",
        "print(\"After clear:\", my_list)\n",
        "\n",
        "my_list = [3, 1, 4, 1, 5, 9, 2, 6, 5, 3, 5]\n",
        "\n",
        "count_of_5 = my_list.count(5)\n",
        "print(\"Count of 5:\", count_of_5)\n",
        "\n",
        "extension = [8, 9, 7]\n",
        "my_list.extend(extension)\n",
        "print(\"After extend:\", my_list)\n",
        "\n",
        "index_of_9 = my_list.index(9)\n",
        "print(\"Index of 9:\", index_of_9)\n",
        "\n",
        "my_list.insert(2, 99)\n",
        "print(\"After insert at index 2:\", my_list)\n",
        "\n",
        "popped_element = my_list.pop()\n",
        "print(\"Popped element:\", popped_element)\n",
        "print(\"After pop:\", my_list)\n",
        "\n",
        "my_list.reverse()\n",
        "print(\"After reverse:\", my_list)\n",
        "\n",
        "my_list.sort()\n",
        "print(\"After sort:\", my_list)\n",
        "\n",
        "min_value = min(my_list)\n",
        "print(\"Min value:\", min_value)\n",
        "\n",
        "max_value = max(my_list)\n",
        "print(\"Max value:\", max_value)\n",
        "\n",
        "sum_of_elements = sum(my_list)\n",
        "print(\"Sum of elements:\", sum_of_elements)\n"
      ],
      "metadata": {
        "id": "9MqSnByPZHeB",
        "outputId": "9ce84fdd-b905-4a26-f3fc-5a7eaaccf43d",
        "colab": {
          "base_uri": "https://localhost:8080/"
        }
      },
      "execution_count": null,
      "outputs": [
        {
          "output_type": "stream",
          "name": "stdout",
          "text": [
            "After append: [3, 1, 4, 1, 5, 9, 2, 6, 5, 3, 5, 8]\n",
            "Copied list: [3, 1, 4, 1, 5, 9, 2, 6, 5, 3, 5, 8]\n",
            "After clear: []\n",
            "Count of 5: 3\n",
            "After extend: [3, 1, 4, 1, 5, 9, 2, 6, 5, 3, 5, 8, 9, 7]\n",
            "Index of 9: 5\n",
            "After insert at index 2: [3, 1, 99, 4, 1, 5, 9, 2, 6, 5, 3, 5, 8, 9, 7]\n",
            "Popped element: 7\n",
            "After pop: [3, 1, 99, 4, 1, 5, 9, 2, 6, 5, 3, 5, 8, 9]\n",
            "After reverse: [9, 8, 5, 3, 5, 6, 2, 9, 5, 1, 4, 99, 1, 3]\n",
            "After sort: [1, 1, 2, 3, 3, 4, 5, 5, 5, 6, 8, 9, 9, 99]\n",
            "Min value: 1\n",
            "Max value: 99\n",
            "Sum of elements: 160\n"
          ]
        }
      ]
    },
    {
      "cell_type": "markdown",
      "source": [
        "## 4, How would you divide the list into two parts?"
      ],
      "metadata": {
        "id": "W9xfjUWak6J_"
      }
    },
    {
      "cell_type": "code",
      "source": [
        "my_list = [1, 2, 3, 4, 5, 6, 7, 8, 9, 10]\n",
        "\n",
        "midpoint = len(my_list)\n",
        "\n",
        "first_part = my_list[:midpoint]\n",
        "second_part = my_list[midpoint:]\n",
        "\n",
        "print(\"Original List:\", my_list)\n",
        "print(\"First Part:\", first_part)\n",
        "print(\"Second Part:\", second_part)\n"
      ],
      "metadata": {
        "id": "4PLLkfShZwzq",
        "outputId": "7c2b05d0-267d-4ba6-a6f3-7f7e8b00285b",
        "colab": {
          "base_uri": "https://localhost:8080/"
        }
      },
      "execution_count": null,
      "outputs": [
        {
          "output_type": "stream",
          "name": "stdout",
          "text": [
            "Original List: [1, 2, 3, 4, 5, 6, 7, 8, 9, 10]\n",
            "First Part: [1, 2, 3, 4, 5, 6, 7, 8, 9, 10]\n",
            "Second Part: []\n"
          ]
        }
      ]
    },
    {
      "cell_type": "markdown",
      "source": [
        "## 5. how to filter the multiple of 3 from a given list and them remove the odd number from the new filtered list.\n",
        "Eg A = [1,2,3,4,5,6,7,8,9,21,23,24]\n",
        "Filter_lsit = [3,6,9,21,24]\n",
        "output_list = [6,24]"
      ],
      "metadata": {
        "id": "Qb1mVGfnk6G5"
      }
    },
    {
      "cell_type": "code",
      "source": [
        "A = [1, 2, 3, 4, 5, 6, 7, 8, 9, 21, 23, 24]\n",
        "\n",
        "filtered_list = [num for num in A if num % 3 == 0]\n",
        "\n",
        "output_list = [num for num in filtered_list if num % 2 == 0]\n",
        "\n",
        "print(\"Original List:\", A)\n",
        "print(\"Filtered List (Multiples of 3):\", filtered_list)\n",
        "print(\"Output List (Even Numbers from Filtered List):\", output_list)\n"
      ],
      "metadata": {
        "id": "eCPgJZctaC0J",
        "outputId": "ff93351b-544b-4a7c-e813-28bdab328c7a",
        "colab": {
          "base_uri": "https://localhost:8080/"
        }
      },
      "execution_count": null,
      "outputs": [
        {
          "output_type": "stream",
          "name": "stdout",
          "text": [
            "Original List: [1, 2, 3, 4, 5, 6, 7, 8, 9, 21, 23, 24]\n",
            "Filtered List (Multiples of 3): [3, 6, 9, 21, 24]\n",
            "Output List (Even Numbers from Filtered List): [6, 24]\n"
          ]
        }
      ]
    },
    {
      "cell_type": "markdown",
      "source": [
        "## 6. How you can access keys and values simultaneously and update its value"
      ],
      "metadata": {
        "id": "auhYyjixk6FD"
      }
    },
    {
      "cell_type": "code",
      "source": [
        "my_dict = {'a': 1, 'b': 2, 'c': 3, 'd': 4}\n",
        "\n",
        "for key, value in my_dict.items():\n",
        "    print(\"Key:\", key, \"| Value:\", value)\n",
        "\n",
        "for key, value in my_dict.items():\n",
        "    my_dict[key] = value * 2\n",
        "\n",
        "print(\"Updated Dictionary:\", my_dict)\n"
      ],
      "metadata": {
        "id": "EMcsRfXbaS0x",
        "outputId": "11623b9f-d51b-43fa-b4be-9a8dc5315828",
        "colab": {
          "base_uri": "https://localhost:8080/"
        }
      },
      "execution_count": null,
      "outputs": [
        {
          "output_type": "stream",
          "name": "stdout",
          "text": [
            "Key: a | Value: 1\n",
            "Key: b | Value: 2\n",
            "Key: c | Value: 3\n",
            "Key: d | Value: 4\n",
            "Updated Dictionary: {'a': 2, 'b': 4, 'c': 6, 'd': 8}\n"
          ]
        }
      ]
    },
    {
      "cell_type": "markdown",
      "source": [
        "## 7. Write python program to join, merge, concatente the two dictionaries..\n"
      ],
      "metadata": {
        "id": "vV00n0awk5_G"
      }
    },
    {
      "cell_type": "code",
      "source": [
        "dict1 = {'a': 1, 'b': 2}\n",
        "dict2 = {'b': 3, 'c': 4}\n",
        "\n",
        "merged_dict1 = dict1.copy()\n",
        "merged_dict1.update(dict2)\n",
        "\n",
        "merged_dict2 = {**dict1, **dict2}\n",
        "\n",
        "print(\"Original Dictionary 1:\", dict1)\n",
        "print(\"Original Dictionary 2:\", dict2)\n",
        "print(\"Merged Dictionary 1 (update()):\", merged_dict1)\n",
        "print(\"Merged Dictionary 2 ({**}):\", merged_dict2)\n"
      ],
      "metadata": {
        "id": "O9XFaqp0ah_V",
        "outputId": "e0278a48-2d12-4b37-beb2-737f3fdd573c",
        "colab": {
          "base_uri": "https://localhost:8080/"
        }
      },
      "execution_count": null,
      "outputs": [
        {
          "output_type": "stream",
          "name": "stdout",
          "text": [
            "Original Dictionary 1: {'a': 1, 'b': 2}\n",
            "Original Dictionary 2: {'b': 3, 'c': 4}\n",
            "Merged Dictionary 1 (update()): {'a': 1, 'b': 3, 'c': 4}\n",
            "Merged Dictionary 2 ({**}): {'a': 1, 'b': 3, 'c': 4}\n"
          ]
        }
      ]
    },
    {
      "cell_type": "markdown",
      "source": [
        "## 8. How would you check a specific keys from the dictionary??\n"
      ],
      "metadata": {
        "id": "Z_7dpypWnQ-z"
      }
    },
    {
      "cell_type": "code",
      "source": [
        "my_dict = {'a': 1, 'b': 2, 'c': 3, 'd': 4}\n",
        "\n",
        "key_to_check = 'b'\n",
        "\n",
        "if key_to_check in my_dict:\n",
        "    print(f\"The key '{key_to_check}' exists in the dictionary. Its value is {my_dict[key_to_check]}.\")\n",
        "else:\n",
        "    print(f\"The key '{key_to_check}' does not exist in the dictionary.\")\n"
      ],
      "metadata": {
        "id": "NwdhTvCbaxWl",
        "outputId": "00c671d8-a574-4535-9c23-bd0d767ddc4c",
        "colab": {
          "base_uri": "https://localhost:8080/"
        }
      },
      "execution_count": null,
      "outputs": [
        {
          "output_type": "stream",
          "name": "stdout",
          "text": [
            "The key 'b' exists in the dictionary. Its value is 2.\n"
          ]
        }
      ]
    },
    {
      "cell_type": "markdown",
      "source": [
        "## 9. write a python program to find the unique vowel present in the sentence"
      ],
      "metadata": {
        "id": "EjxeB4ntnirH"
      }
    },
    {
      "cell_type": "code",
      "source": [
        "def find_unique_vowels(sentence):\n",
        "\n",
        "    sentence = sentence.lower()\n",
        "\n",
        "\n",
        "    unique_vowels = set()\n",
        "\n",
        "\n",
        "    vowels = {'a', 'e', 'i', 'o', 'u'}\n",
        "\n",
        "\n",
        "    for char in sentence:\n",
        "\n",
        "        if char in vowels:\n",
        "            unique_vowels.add(char)\n",
        "\n",
        "    return unique_vowels\n",
        "\n",
        "\n",
        "input_sentence = \"Hello, how are you today?\"\n",
        "result = find_unique_vowels(input_sentence)\n",
        "\n",
        "print(\"Original Sentence:\", input_sentence)\n",
        "print(\"Unique Vowels:\", result)\n",
        "\n"
      ],
      "metadata": {
        "id": "4KJsHhdBa9v0",
        "outputId": "5dffcf06-1f23-46c7-b348-123881535035",
        "colab": {
          "base_uri": "https://localhost:8080/"
        }
      },
      "execution_count": null,
      "outputs": [
        {
          "output_type": "stream",
          "name": "stdout",
          "text": [
            "Original Sentence: Hello, how are you today?\n",
            "Unique Vowels: {'u', 'e', 'o', 'a'}\n"
          ]
        }
      ]
    },
    {
      "cell_type": "markdown",
      "source": [
        "## 10. We know that tuple is immutable, do any thing and add element to the tuples."
      ],
      "metadata": {
        "id": "B1VBImcfns6V"
      }
    },
    {
      "cell_type": "code",
      "source": [
        "original_tuple = (1, 2, 3)\n",
        "new_elements = (4, 5, 6)\n",
        "\n",
        "combined_tuple = original_tuple + new_elements\n",
        "\n",
        "print(\"Combined Tuple:\", combined_tuple)\n",
        "\n",
        "original_tuple = (1, 2, 3)\n",
        "new_elements = (4, 5, 6)\n",
        "\n",
        "\n",
        "new_tuple = original_tuple[:2] + new_elements + original_tuple[2:]\n",
        "\n",
        "print(\"New Tuple:\", new_tuple)\n",
        "\n"
      ],
      "metadata": {
        "id": "8HwGy_Y3C1BR",
        "outputId": "12416739-0933-4a65-9431-99fbc938fd64",
        "colab": {
          "base_uri": "https://localhost:8080/"
        }
      },
      "execution_count": null,
      "outputs": [
        {
          "output_type": "stream",
          "name": "stdout",
          "text": [
            "Combined Tuple: (1, 2, 3, 4, 5, 6)\n",
            "New Tuple: (1, 2, 4, 5, 6, 3)\n"
          ]
        }
      ]
    },
    {
      "cell_type": "markdown",
      "source": [
        "## 11. How would you sum the list of tuple and sum of tuple of list\n",
        "list  = [(2,3),(4,5),(6,4)]\n",
        "output= [5,9,10]\n",
        "\n",
        "tuple  =([2,3],[4,5],[6,4])\n",
        "output  =  (5,9,10)"
      ],
      "metadata": {
        "id": "Yd7tDQHuoGFm"
      }
    },
    {
      "cell_type": "code",
      "source": [
        "list_of_tuples = [(2, 3), (4, 5), (6, 4)]\n",
        "\n",
        "sum_list = [sum(t) for t in zip(*list_of_tuples)]\n",
        "\n",
        "print(\"Sum of List of Tuples:\", sum_list)\n",
        "\n",
        "tuple_of_lists = ([2, 3], [4, 5], [6, 4])\n",
        "\n",
        "sum_tuple = tuple(sum(lst) for lst in zip(*tuple_of_lists))\n",
        "\n",
        "print(\"Sum of Tuple of Lists:\", sum_tuple)\n",
        "\n"
      ],
      "metadata": {
        "id": "YJaXePh8DGS0",
        "outputId": "843c9a49-2c80-415c-a6d8-31d24a10c776",
        "colab": {
          "base_uri": "https://localhost:8080/"
        }
      },
      "execution_count": null,
      "outputs": [
        {
          "output_type": "stream",
          "name": "stdout",
          "text": [
            "Sum of List of Tuples: [12, 12]\n",
            "Sum of Tuple of Lists: (12, 12)\n"
          ]
        }
      ]
    },
    {
      "cell_type": "markdown",
      "source": [
        "## 12. FIND THE FREQUENCY OF THE KEYS IN THE GIVEN DICTIONARY"
      ],
      "metadata": {
        "id": "YiXg_vDpoq7X"
      }
    },
    {
      "cell_type": "code",
      "source": [
        "def find_key_frequency(input_dict):\n",
        "\n",
        "    key_frequency = {}\n",
        "\n",
        "\n",
        "    for key in input_dict:\n",
        "\n",
        "        if key in key_frequency:\n",
        "\n",
        "            key_frequency[key] += 1\n",
        "        else:\n",
        "\n",
        "            key_frequency[key] = 1\n",
        "\n",
        "    return key_frequency\n",
        "\n",
        "\n",
        "my_dict = {'a': 1, 'b': 2, 'c': 3, 'a': 4, 'd': 5, 'b': 6}\n",
        "\n",
        "\n",
        "frequency_result = find_key_frequency(my_dict)\n",
        "\n",
        "\n",
        "print(\"Original Dictionary:\", my_dict)\n",
        "print(\"Key Frequency:\", frequency_result)\n"
      ],
      "metadata": {
        "id": "JqbrGi_ecXl1",
        "outputId": "99330b2c-0a13-400c-e4a4-af21dcc8de11",
        "colab": {
          "base_uri": "https://localhost:8080/"
        }
      },
      "execution_count": null,
      "outputs": [
        {
          "output_type": "stream",
          "name": "stdout",
          "text": [
            "Original Dictionary: {'a': 4, 'b': 6, 'c': 3, 'd': 5}\n",
            "Key Frequency: {'a': 1, 'b': 1, 'c': 1, 'd': 1}\n"
          ]
        }
      ]
    }
  ]
}