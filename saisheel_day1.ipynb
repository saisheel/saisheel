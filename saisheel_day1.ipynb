{
  "nbformat": 4,
  "nbformat_minor": 0,
  "metadata": {
    "colab": {
      "provenance": [],
      "include_colab_link": true
    },
    "kernelspec": {
      "name": "python3",
      "display_name": "Python 3"
    },
    "language_info": {
      "name": "python"
    }
  },
  "cells": [
    {
      "cell_type": "markdown",
      "metadata": {
        "id": "view-in-github",
        "colab_type": "text"
      },
      "source": [
        "<a href=\"https://colab.research.google.com/github/saisheel/saisheel/blob/main/saisheel_day1.ipynb\" target=\"_parent\"><img src=\"https://colab.research.google.com/assets/colab-badge.svg\" alt=\"Open In Colab\"/></a>"
      ]
    },
    {
      "cell_type": "markdown",
      "source": [
        "## how would you confimm that two strings have the same identity?"
      ],
      "metadata": {
        "id": "eh5Ph74_HqpD"
      }
    },
    {
      "cell_type": "code",
      "source": [
        "ch1=\"python\"\n",
        "ch2=\"python\"\n",
        "if ch1 is ch2:\n",
        "  print(\"strings are of same identity\")\n",
        "else:\n",
        "  print(\"strings do not have identity\")"
      ],
      "metadata": {
        "id": "oERbt__VktUg",
        "colab": {
          "base_uri": "https://localhost:8080/"
        },
        "outputId": "c180279b-57c6-4a8a-b87c-50c4f061d70c"
      },
      "execution_count": 1,
      "outputs": [
        {
          "output_type": "stream",
          "name": "stdout",
          "text": [
            "strings are of same identity\n"
          ]
        }
      ]
    },
    {
      "cell_type": "code",
      "source": [
        "ch1=\"sai\"\n",
        "ch2=\"sheel\"\n",
        "if ch1 is ch2:\n",
        "  print(\"strings are of same identity\")\n",
        "else:\n",
        "  print(\"strings do not have identity\")"
      ],
      "metadata": {
        "colab": {
          "base_uri": "https://localhost:8080/"
        },
        "id": "TyQsLgjJG6ps",
        "outputId": "b2128e6c-bfb2-4d7b-ffd7-b3589d34af53"
      },
      "execution_count": 2,
      "outputs": [
        {
          "output_type": "stream",
          "name": "stdout",
          "text": [
            "strings do not have identity\n"
          ]
        }
      ]
    },
    {
      "cell_type": "markdown",
      "source": [
        "How to find the length and index of the string?"
      ],
      "metadata": {
        "id": "xSfXJRgVHKOB"
      }
    },
    {
      "cell_type": "code",
      "source": [
        "\n",
        "s=\"python\"\n",
        "length=len(s)\n",
        "print(\"Length of the string :\",s)\n",
        "y='t'\n",
        "ind=s.find(y)\n",
        "print(\"Index value is:\",ind)\n",
        "\n"
      ],
      "metadata": {
        "id": "cuEJ9hZ_S4df",
        "colab": {
          "base_uri": "https://localhost:8080/"
        },
        "outputId": "99170b3a-4fb7-43ea-cced-f65f65f5e7f2"
      },
      "execution_count": 4,
      "outputs": [
        {
          "output_type": "stream",
          "name": "stdout",
          "text": [
            "Length of the string : python\n",
            "Index value is: 2\n"
          ]
        }
      ]
    },
    {
      "cell_type": "markdown",
      "source": [
        "## how to check a string contain a specific substring"
      ],
      "metadata": {
        "id": "EGK-LzalIO_i"
      }
    },
    {
      "cell_type": "code",
      "source": [
        "s=\"Hey people\"\n",
        "sub_str=\"Hey\"\n",
        "if sub_str in s:\n",
        "  print(\"The string contains the specific string\")\n",
        "else:\n",
        "  print(\"The string does not contain any specific string\")"
      ],
      "metadata": {
        "id": "g1HYIC9gJ7Vi",
        "colab": {
          "base_uri": "https://localhost:8080/"
        },
        "outputId": "43f64243-46cd-4e53-e99b-73917f0320d4"
      },
      "execution_count": 5,
      "outputs": [
        {
          "output_type": "stream",
          "name": "stdout",
          "text": [
            "The string contains the specific string\n"
          ]
        }
      ]
    },
    {
      "cell_type": "markdown",
      "source": [
        "## how to a take a string from backward with two step difference?\n"
      ],
      "metadata": {
        "id": "LmY6RXjoJF9h"
      }
    },
    {
      "cell_type": "code",
      "source": [
        "s=\"heyy\"\n",
        "t=s[::-2]\n",
        "print(\"original string is:\",s)\n",
        "print(\"String from backward with two step difference:\",t)"
      ],
      "metadata": {
        "id": "_C_pqVqBJ8AA",
        "colab": {
          "base_uri": "https://localhost:8080/"
        },
        "outputId": "2bfb8efc-75d8-4078-cc55-431e29385e4b"
      },
      "execution_count": 6,
      "outputs": [
        {
          "output_type": "stream",
          "name": "stdout",
          "text": [
            "original string is: heyy\n",
            "String from backward with two step difference: ye\n"
          ]
        }
      ]
    },
    {
      "cell_type": "markdown",
      "source": [
        "## how to find the index of the last element"
      ],
      "metadata": {
        "id": "7eg6JfyuJr_2"
      }
    },
    {
      "cell_type": "code",
      "source": [
        "s=\"sheel\"\n",
        "print(\"Index of last element is\", len(s)-1 )"
      ],
      "metadata": {
        "id": "T84ODp77J8zR",
        "colab": {
          "base_uri": "https://localhost:8080/"
        },
        "outputId": "097ee523-f944-4fac-a8bd-927b068096f6"
      },
      "execution_count": 7,
      "outputs": [
        {
          "output_type": "stream",
          "name": "stdout",
          "text": [
            "Index of last element is 4\n"
          ]
        }
      ]
    },
    {
      "cell_type": "markdown",
      "source": [
        "## Write 2 ways to concatinate the string"
      ],
      "metadata": {
        "id": "FTdxvLc1J0lv"
      }
    },
    {
      "cell_type": "code",
      "source": [
        "\n",
        "s1=\"Hello\"\n",
        "s2=\"People!\"\n"
      ],
      "metadata": {
        "id": "j8P9ODeTJ9Zz"
      },
      "execution_count": 8,
      "outputs": []
    }
  ]
}